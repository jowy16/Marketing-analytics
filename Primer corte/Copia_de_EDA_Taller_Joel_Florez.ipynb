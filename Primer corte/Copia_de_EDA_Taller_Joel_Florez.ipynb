{
  "cells": [
    {
      "cell_type": "markdown",
      "metadata": {
        "id": "9lOHC8gctM87"
      },
      "source": [
        "# Análisis Exploratorio de Datos (EDA) - Online Retail\n",
        "\n",
        "En este cuaderno, realizaremos un **análisis paso a paso** de un dataset de facturación que contiene columnas como:\n",
        " - **InvoiceNo**: Número de factura\n",
        " - **StockCode**: Código del producto\n",
        " - **Description**: Descripción del producto\n",
        " - **Quantity**: Cantidad vendida (puede ser negativa en devoluciones)\n",
        " - **InvoiceDate**: Fecha de la factura\n",
        " - **UnitPrice**: Precio unitario de cada artículo\n",
        " - **CustomerID**: ID del cliente (puede haber nulos si no se registró)\n",
        " - **Country**: País donde se realizó la compra\n",
        "\n",
        "El objetivo es **entender** el comportamiento de las ventas, los países más relevantes, los productos más comprados, y otras métricas de interés."
      ]
    },
    {
      "cell_type": "code",
      "execution_count": null,
      "metadata": {
        "id": "VCRci3bYtM8-"
      },
      "outputs": [],
      "source": [
        "!wget https://github.com/javierherrera1996/lecture_analytics/raw/main/datasets/ecomerce_customers_segmentation.zip\n",
        "!unzip ecomerce_customers_segmentation.zip"
      ]
    },
    {
      "cell_type": "markdown",
      "metadata": {
        "id": "a5slvQamtM9A"
      },
      "source": [
        "## 1. Importar librerías y cargar datos\n",
        "Asegúrate de tener el archivo CSV en la misma carpeta, o ajusta la ruta de `pd.read_csv` según tu necesidad."
      ]
    },
    {
      "cell_type": "code",
      "execution_count": null,
      "metadata": {
        "id": "SZXHkGLFtM9A"
      },
      "outputs": [],
      "source": [
        "import pandas as pd\n",
        "import numpy as np\n",
        "\n",
        "# Carga del dataset (ajusta el nombre a tu archivo)\n",
        "df = pd.read_csv('data.csv',encoding=\"latin-1\") # Puedes necesitar encoding='latin1' si hay caracteres especiales\n",
        "pd.set_option('display.max_columns', None)\n",
        "# Mostramos las primeras filas para inspección\n",
        "df.head()"
      ]
    },
    {
      "cell_type": "markdown",
      "metadata": {
        "id": "BO_L1crltM9B"
      },
      "source": [
        "## 2. Información general del dataset\n",
        "Aquí veremos:\n",
        "- Dimensiones del DataFrame\n",
        "- Tipos de datos\n",
        "- Presencia de valores nulos\n",
        "- Estadísticos descriptivos de las columnas numéricas"
      ]
    },
    {
      "cell_type": "code",
      "execution_count": null,
      "metadata": {
        "id": "2-VKuNw8tM9B"
      },
      "outputs": [],
      "source": [
        "df.shape"
      ]
    },
    {
      "cell_type": "code",
      "execution_count": null,
      "metadata": {
        "id": "rOKSSVkDtM9B"
      },
      "outputs": [],
      "source": [
        "df.describe()"
      ]
    },
    {
      "cell_type": "code",
      "execution_count": null,
      "metadata": {
        "id": "mVU0HZHntM9C"
      },
      "outputs": [],
      "source": [
        "# Estadísticos descriptivos\n",
        "df.isnull().sum()"
      ]
    },
    {
      "cell_type": "markdown",
      "metadata": {
        "id": "ZB4J-CHWtM9C"
      },
      "source": [
        "**Observación**: Algunas facturas pueden ser devoluciones si `Quantity` es negativa. Además, puede haber filas sin `CustomerID`."
      ]
    },
    {
      "cell_type": "markdown",
      "metadata": {
        "id": "9Q4tyN3VtM9C"
      },
      "source": [
        "## 3. Limpieza básica y transformación\n",
        "### 3.1. Revisar y eliminar posibles filas con datos problemáticos\n",
        " - Filas donde `Description` esté vacía\n",
        " - Filas con `Quantity == 0` (puede haber poco sentido en un registro así)\n",
        " - Filas con `UnitPrice <= 0` (podría ser error o promoción anómala)\n",
        " - Convertir la columna `InvoiceDate` a formato fecha, para luego analizar tiempos"
      ]
    },
    {
      "cell_type": "code",
      "execution_count": null,
      "metadata": {
        "id": "8gx_spu8tM9C"
      },
      "outputs": [],
      "source": [
        "df=df.dropna(subset=[\"Description\"])"
      ]
    },
    {
      "cell_type": "code",
      "execution_count": null,
      "metadata": {
        "id": "YR72_Kiis09t"
      },
      "outputs": [],
      "source": [
        "df=df[df[\"Quantity\"]!=0]"
      ]
    },
    {
      "cell_type": "code",
      "execution_count": null,
      "metadata": {
        "id": "YEyP3iwiIX-P"
      },
      "outputs": [],
      "source": [
        "df=df[df[\"UnitPrice\"]>0]"
      ]
    },
    {
      "cell_type": "code",
      "execution_count": null,
      "metadata": {
        "id": "q60jFYm3IdcH"
      },
      "outputs": [],
      "source": [
        "df[\"InvoiceDate\"]=pd.to_datetime(df[\"InvoiceDate\"],format=\"DD/MM/YYYY HH:MM\")"
      ]
    },
    {
      "cell_type": "code",
      "execution_count": null,
      "metadata": {
        "id": "nF4kbQTpINI0"
      },
      "outputs": [],
      "source": [
        "df[\"InvoiceDate\"][0]"
      ]
    },
    {
      "cell_type": "markdown",
      "metadata": {
        "id": "yD-Wu4a8tM9D"
      },
      "source": [
        "## 4. Creación de columna \"TotalPrice\"\n",
        "Para conocer el valor total de cada línea de venta, calculamos `Quantity * UnitPrice`."
      ]
    },
    {
      "cell_type": "code",
      "execution_count": null,
      "metadata": {
        "id": "UUEfIhOrtM9D"
      },
      "outputs": [],
      "source": [
        "df['TotalPrice'] = df['Quantity'] * df['UnitPrice']"
      ]
    },
    {
      "cell_type": "markdown",
      "metadata": {
        "id": "wsJS_Md0tM9D"
      },
      "source": [
        "## 5. Análisis paso a paso\n",
        "A continuación, veremos distintos análisis que **paso a paso** nos ayudarán a entender mejor el negocio."
      ]
    },
    {
      "cell_type": "markdown",
      "metadata": {
        "id": "ng609N96tM9D"
      },
      "source": [
        "### 5.1. ¿Cuántas transacciones totales hay y cuántos clientes diferentes?\n",
        "Esto da un primer vistazo al tamaño del negocio en términos de facturas y base de clientes."
      ]
    },
    {
      "cell_type": "code",
      "execution_count": null,
      "metadata": {
        "id": "k48jYNq1tM9D"
      },
      "outputs": [],
      "source": [
        "transacciones_totales = df['InvoiceNo'].count()\n",
        "print(f\"Número total de transacciones: {transacciones_totales}\")\n",
        "clientes_unicos = df['CustomerID'].nunique()\n",
        "print(f\"Número de clientes únicos: {clientes_unicos}\")"
      ]
    },
    {
      "cell_type": "markdown",
      "metadata": {
        "id": "QOOAL2ZktM9D"
      },
      "source": [
        "### 5.2. ¿Cuáles son los países más frecuentes en las ventas?\n",
        "Podemos contar cuántas líneas de factura vienen de cada país. Esto ayuda a entender nuestro alcance geográfico."
      ]
    },
    {
      "cell_type": "code",
      "execution_count": null,
      "metadata": {
        "id": "gIrdgzfptM9D"
      },
      "outputs": [],
      "source": [
        "df.groupby(\"Country\").count()[\"InvoiceNo\"]"
      ]
    },
    {
      "cell_type": "markdown",
      "metadata": {
        "id": "rxi5dDNDtM9D"
      },
      "source": [
        "> Tip: Si queremos ver el total en **monetario** por país, podemos agrupar por `Country` y sumar `TotalPrice`."
      ]
    },
    {
      "cell_type": "code",
      "execution_count": null,
      "metadata": {
        "id": "abK8ZWWztM9D"
      },
      "outputs": [],
      "source": [
        "df.groupby(\"Country\").sum()[\"TotalPrice\"]"
      ]
    },
    {
      "cell_type": "markdown",
      "metadata": {
        "id": "vtGO7WSqtM9E"
      },
      "source": [
        "### 5.3. ¿Cuáles son los productos más vendidos?\n",
        "Aquí vamos a usar `Description` para ver cuántas líneas se han vendido (o la suma total de `Quantity`)."
      ]
    },
    {
      "cell_type": "code",
      "execution_count": null,
      "metadata": {
        "id": "Tfqi2vtRtM9E"
      },
      "outputs": [],
      "source": [
        "productos_por_lineas = df['Description'].value_counts()\n",
        "print(\"Productos más vendidos (por número de líneas de factura):\")\n",
        "print(productos_por_lineas.head())\n",
        "\n",
        "productos_por_cantidad = df.groupby('Description')['Quantity'].sum().sort_values(ascending=False)\n",
        "print(\"\\nProductos más vendidos (por cantidad total):\")\n",
        "print(productos_por_cantidad.head())"
      ]
    },
    {
      "cell_type": "markdown",
      "metadata": {
        "id": "8Bq92KAjtM9E"
      },
      "source": [
        "### 5.4. ¿Cuál es el total de ingresos (revenue) y el ticket promedio?\n",
        " - El ingreso total es la suma de **TotalPrice**.\n",
        " - El ticket promedio podemos calcularlo como el promedio de **TotalPrice** dentro de cada factura (o línea)."
      ]
    },
    {
      "cell_type": "code",
      "execution_count": null,
      "metadata": {
        "id": "jq8qwiZKtM9E"
      },
      "outputs": [],
      "source": [
        "ingreso_total = df['TotalPrice'].sum()\n",
        "print(f\"Ingreso total: {ingreso_total:.2f}\")\n",
        "\n",
        "ticket_promedio_linea = df['TotalPrice'].mean()\n",
        "print(f\"Ticket promedio por línea de factura: {ticket_promedio_linea:.2f}\")"
      ]
    },
    {
      "cell_type": "markdown",
      "metadata": {
        "id": "eGdLEe7atM9E"
      },
      "source": [
        "> Para un ticket promedio a nivel de **factura**, debemos agrupar por `InvoiceNo`, sumar `TotalPrice` y luego promediar."
      ]
    },
    {
      "cell_type": "code",
      "execution_count": null,
      "metadata": {
        "id": "9-eSgfvztM9E"
      },
      "outputs": [],
      "source": [
        "ticket_promedio_factura = df.groupby('InvoiceNo')['TotalPrice'].sum().mean()\n",
        "print(f\"Ticket promedio por factura: {ticket_promedio_factura:.2f}\")"
      ]
    },
    {
      "cell_type": "markdown",
      "metadata": {
        "id": "u-r9yhjPtM9E"
      },
      "source": [
        "### 5.6. ¿Tenemos devoluciones?\n",
        "Como `Quantity` puede ser negativa, **representa** devoluciones. Veamos cuántas hay y el impacto en valor."
      ]
    },
    {
      "cell_type": "code",
      "execution_count": null,
      "metadata": {
        "id": "Eb8W4NlstM9E"
      },
      "outputs": [],
      "source": [
        "devoluciones_df = df[df['Quantity'] < 0]\n",
        "\n",
        "numero_devoluciones = devoluciones_df.shape[0]\n",
        "print(f\"Número total de líneas de factura con devoluciones: {numero_devoluciones}\")\n",
        "\n",
        "valor_devoluciones = devoluciones_df['TotalPrice'].sum()\n",
        "print(f\"Impacto total en valor de las devoluciones: {valor_devoluciones:.2f}\")"
      ]
    },
    {
      "cell_type": "markdown",
      "metadata": {
        "id": "u-59UhH8tM9E"
      },
      "source": [
        "### 5.7. ¿Cuántos clientes realizan compras repetidas?\n",
        "Podemos ver cuántos clientes compran más de una vez."
      ]
    },
    {
      "cell_type": "code",
      "execution_count": null,
      "metadata": {
        "id": "HFzb-Cz-tM9E"
      },
      "outputs": [],
      "source": [
        "facturas_por_cliente = df.groupby('CustomerID')['InvoiceNo'].nunique()\n",
        "\n",
        "clientes_repetidos = facturas_por_cliente[facturas_por_cliente > 1]\n",
        "\n",
        "numero_clientes_repetidos = clientes_repetidos.shape[0]\n",
        "\n",
        "print(f\"Número de clientes que realizan compras repetidas: {numero_clientes_repetidos}\")"
      ]
    },
    {
      "cell_type": "markdown",
      "metadata": {
        "id": "5pFIkzvytM9E"
      },
      "source": [
        "## 6. Posibles siguientes pasos\n",
        "- **Crear segmentaciones** (p. ej. RFM: Recency, Frequency, Monetary) para clasificar clientes.\n",
        "- **Analizar descuentos/promos** si tuvieras columnas extra.\n",
        "- **Fusionar** con datos de marketing para calcular CAC (Customer Acquisition Cost) y LTV (Lifetime Value), etc.\n",
        "- **Explorar** variables estacionales o días de la semana con mayor venta.\n",
        "\n",
        "Con este **análisis paso a paso**, se obtiene un primer panorama de:\n",
        " - Cantidad de facturas y clientes.\n",
        " - Productos más vendidos.\n",
        " - Ingresos por país.\n",
        " - Montos totales y tickets promedio.\n",
        " - Distribución mensual de ventas.\n",
        " - Devoluciones y recurrencia de clientes.\n",
        "\n",
        "¡A medida que se adquieran más habilidades en Python y análisis de datos, se pueden añadir gráficos, segmentaciones avanzadas y modelos predictivos!"
      ]
    }
  ],
  "metadata": {
    "colab": {
      "provenance": [],
      "toc_visible": true
    },
    "kernelspec": {
      "display_name": "Python 3",
      "language": "python",
      "name": "python3"
    },
    "language_info": {
      "codemirror_mode": {
        "name": "ipython",
        "version": 3
      },
      "file_extension": ".py",
      "mimetype": "text/x-python",
      "name": "python",
      "nbconvert_exporter": "python",
      "pygments_lexer": "ipython3",
      "version": "3.9.6"
    }
  },
  "nbformat": 4,
  "nbformat_minor": 0
}